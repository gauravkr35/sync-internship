{
 "cells": [
  {
   "cell_type": "code",
   "execution_count": 1,
   "id": "e2bc66fb",
   "metadata": {},
   "outputs": [],
   "source": [
    "import random\n",
    "import time"
   ]
  },
  {
   "cell_type": "code",
   "execution_count": 2,
   "id": "d2a6df76",
   "metadata": {},
   "outputs": [],
   "source": [
    "def greet():\n",
    "    greeting=(\"ChatBot: Hi! Welcome to ChatBot, \\n         I'm here to assist you to discover our product.\")\n",
    "    print(greeting)\n",
    "    time.sleep(2)"
   ]
  },
  {
   "cell_type": "code",
   "execution_count": 3,
   "id": "d50eaf23",
   "metadata": {},
   "outputs": [],
   "source": [
    "def ask():\n",
    "    print(\"ChatBot: How can I help you ?\")\n",
    "    ask=input(\"Users:   \")\n",
    "    time.sleep(2)"
   ]
  },
  {
   "cell_type": "code",
   "execution_count": 4,
   "id": "0e012c12",
   "metadata": {},
   "outputs": [],
   "source": [
    "def ask_name():\n",
    "    print(\"ChatBot: Cool! What's your name ? \")\n",
    "    name=input(\"Users:   \")\n",
    "    time.sleep(1)\n",
    "    print(\"ChatBot: Welcome! Nice to meet you, \" + name + \".\")\n",
    "    time.sleep(2)"
   ]
  },
  {
   "cell_type": "code",
   "execution_count": 5,
   "id": "b5cc6ef0",
   "metadata": {},
   "outputs": [],
   "source": [
    "def inquiry():\n",
    "    print(\"ChatBot: Pleae send us your inquiry or question.\")\n",
    "    question=input(\"Users:   \")\n",
    "    time.sleep(2)"
   ]
  },
  {
   "cell_type": "code",
   "execution_count": 6,
   "id": "4e8c59e2",
   "metadata": {},
   "outputs": [],
   "source": [
    "def in_future():\n",
    "    print(\"ChatBot: Pleae give me your email address, in case I want to reach you in the future.\")\n",
    "    in_future=input(\"Users:   \")\n",
    "    time.sleep(2)"
   ]
  },
  {
   "cell_type": "code",
   "execution_count": 7,
   "id": "8d7b3be6",
   "metadata": {},
   "outputs": [],
   "source": [
    "def thanks():\n",
    "    print(\"ChatBot: Got it! \\n         We will get back to you soon. \\n         Thanks for your time, Have a nice day.\")"
   ]
  },
  {
   "cell_type": "code",
   "execution_count": 8,
   "id": "45a4ee4e",
   "metadata": {},
   "outputs": [],
   "source": [
    "def main():\n",
    "    greet()\n",
    "    ask()\n",
    "    ask_name()\n",
    "    inquiry()\n",
    "    in_future()\n",
    "    thanks()"
   ]
  },
  {
   "cell_type": "code",
   "execution_count": 9,
   "id": "84b54eac",
   "metadata": {},
   "outputs": [
    {
     "name": "stdout",
     "output_type": "stream",
     "text": [
      "ChatBot: Hi! Welcome to ChatBot, \n",
      "         I'm here to assist you to discover our product.\n",
      "ChatBot: How can I help you ?\n",
      "Users:   Product Information\n",
      "ChatBot: Cool! What's your name ? \n",
      "Users:   Gaurav Kumar\n",
      "ChatBot: Welcome! Nice to meet you, Gaurav Kumar.\n",
      "ChatBot: Pleae send us your inquiry or question.\n",
      "Users:   I want to know that what is the price of this Product.\n",
      "ChatBot: Pleae give me your email address, in case I want to reach you in the future.\n",
      "Users:   gauravkumar07092005@gmail.com\n",
      "ChatBot: Got it! \n",
      "         We will get back to you soon. \n",
      "         Thanks for your time, Have a nice day.\n"
     ]
    }
   ],
   "source": [
    "if __name__==\"__main__\":\n",
    "    main()"
   ]
  }
 ],
 "metadata": {
  "kernelspec": {
   "display_name": "Python 3 (ipykernel)",
   "language": "python",
   "name": "python3"
  },
  "language_info": {
   "codemirror_mode": {
    "name": "ipython",
    "version": 3
   },
   "file_extension": ".py",
   "mimetype": "text/x-python",
   "name": "python",
   "nbconvert_exporter": "python",
   "pygments_lexer": "ipython3",
   "version": "3.11.4"
  }
 },
 "nbformat": 4,
 "nbformat_minor": 5
}
